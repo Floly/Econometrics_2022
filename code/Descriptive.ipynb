{
 "cells": [
  {
   "cell_type": "code",
   "execution_count": 1,
   "metadata": {
    "collapsed": true
   },
   "outputs": [],
   "source": [
    "import pandas as pd"
   ]
  },
  {
   "cell_type": "code",
   "execution_count": 32,
   "outputs": [],
   "source": [
    "df = pd.read_excel('/Users/ivanesipov/Desktop/Учеба/Econometrics/Project/Данные/Main_panel_1.xlsx')"
   ],
   "metadata": {
    "collapsed": false,
    "pycharm": {
     "name": "#%%\n"
    }
   }
  },
  {
   "cell_type": "code",
   "execution_count": 33,
   "outputs": [
    {
     "data": {
      "text/plain": "   Unnamed: 0       Name  year      name+year  progress  Happiness  \\\n0           0  Australia  2006  Australia2006  0.083975        NaN   \n1           1  Australia  2007  Australia2007  0.073002   7.285391   \n2           2  Australia  2008  Australia2008  0.075735   7.253757   \n3           3  Australia  2009  Australia2009  0.073277        NaN   \n4           4  Australia  2010  Australia2010  0.070084   7.450047   \n\n   Social_support  Healthy_life_expectancy_at_birth  \\\n0             NaN                               NaN   \n1        0.965276                         71.720001   \n2        0.946635                         71.879997   \n3             NaN                               NaN   \n4        0.954520                         72.199997   \n\n   Freedom_to_make_life_choices     Gini%  socExp(%GE)     GDPpercap  \\\n0                           NaN       NaN       45.231  36117.487984   \n1                      0.890682       NaN       45.780  41001.142979   \n2                      0.915733  35.42851       46.101  49654.910596   \n3                           NaN       NaN       43.963  42783.322565   \n4                      0.932059  34.65673       44.849  52087.972289   \n\n   unemployment%       CPI  \n0       4.785240  3.555288  \n1       4.379151  2.327611  \n2       4.234330  4.350298  \n3       5.560385  1.771117  \n4       5.213340  2.918340  ",
      "text/html": "<div>\n<style scoped>\n    .dataframe tbody tr th:only-of-type {\n        vertical-align: middle;\n    }\n\n    .dataframe tbody tr th {\n        vertical-align: top;\n    }\n\n    .dataframe thead th {\n        text-align: right;\n    }\n</style>\n<table border=\"1\" class=\"dataframe\">\n  <thead>\n    <tr style=\"text-align: right;\">\n      <th></th>\n      <th>Unnamed: 0</th>\n      <th>Name</th>\n      <th>year</th>\n      <th>name+year</th>\n      <th>progress</th>\n      <th>Happiness</th>\n      <th>Social_support</th>\n      <th>Healthy_life_expectancy_at_birth</th>\n      <th>Freedom_to_make_life_choices</th>\n      <th>Gini%</th>\n      <th>socExp(%GE)</th>\n      <th>GDPpercap</th>\n      <th>unemployment%</th>\n      <th>CPI</th>\n    </tr>\n  </thead>\n  <tbody>\n    <tr>\n      <th>0</th>\n      <td>0</td>\n      <td>Australia</td>\n      <td>2006</td>\n      <td>Australia2006</td>\n      <td>0.083975</td>\n      <td>NaN</td>\n      <td>NaN</td>\n      <td>NaN</td>\n      <td>NaN</td>\n      <td>NaN</td>\n      <td>45.231</td>\n      <td>36117.487984</td>\n      <td>4.785240</td>\n      <td>3.555288</td>\n    </tr>\n    <tr>\n      <th>1</th>\n      <td>1</td>\n      <td>Australia</td>\n      <td>2007</td>\n      <td>Australia2007</td>\n      <td>0.073002</td>\n      <td>7.285391</td>\n      <td>0.965276</td>\n      <td>71.720001</td>\n      <td>0.890682</td>\n      <td>NaN</td>\n      <td>45.780</td>\n      <td>41001.142979</td>\n      <td>4.379151</td>\n      <td>2.327611</td>\n    </tr>\n    <tr>\n      <th>2</th>\n      <td>2</td>\n      <td>Australia</td>\n      <td>2008</td>\n      <td>Australia2008</td>\n      <td>0.075735</td>\n      <td>7.253757</td>\n      <td>0.946635</td>\n      <td>71.879997</td>\n      <td>0.915733</td>\n      <td>35.42851</td>\n      <td>46.101</td>\n      <td>49654.910596</td>\n      <td>4.234330</td>\n      <td>4.350298</td>\n    </tr>\n    <tr>\n      <th>3</th>\n      <td>3</td>\n      <td>Australia</td>\n      <td>2009</td>\n      <td>Australia2009</td>\n      <td>0.073277</td>\n      <td>NaN</td>\n      <td>NaN</td>\n      <td>NaN</td>\n      <td>NaN</td>\n      <td>NaN</td>\n      <td>43.963</td>\n      <td>42783.322565</td>\n      <td>5.560385</td>\n      <td>1.771117</td>\n    </tr>\n    <tr>\n      <th>4</th>\n      <td>4</td>\n      <td>Australia</td>\n      <td>2010</td>\n      <td>Australia2010</td>\n      <td>0.070084</td>\n      <td>7.450047</td>\n      <td>0.954520</td>\n      <td>72.199997</td>\n      <td>0.932059</td>\n      <td>34.65673</td>\n      <td>44.849</td>\n      <td>52087.972289</td>\n      <td>5.213340</td>\n      <td>2.918340</td>\n    </tr>\n  </tbody>\n</table>\n</div>"
     },
     "execution_count": 33,
     "metadata": {},
     "output_type": "execute_result"
    }
   ],
   "source": [
    "df.head()"
   ],
   "metadata": {
    "collapsed": false,
    "pycharm": {
     "name": "#%%\n"
    }
   }
  },
  {
   "cell_type": "code",
   "execution_count": 34,
   "outputs": [],
   "source": [
    "# df.iloc[189, 4] = 0\n",
    "# df.drop(columns = ['Unnamed: 0'], inplace = True)"
   ],
   "metadata": {
    "collapsed": false,
    "pycharm": {
     "name": "#%%\n"
    }
   }
  },
  {
   "cell_type": "code",
   "execution_count": 43,
   "outputs": [],
   "source": [
    "df.describe().to_excel('describe_general.xlsx')"
   ],
   "metadata": {
    "collapsed": false,
    "pycharm": {
     "name": "#%%\n"
    }
   }
  },
  {
   "cell_type": "code",
   "execution_count": 44,
   "outputs": [],
   "source": [
    "df.groupby('Name').describe().to_excel('describe_country.xlsx')"
   ],
   "metadata": {
    "collapsed": false,
    "pycharm": {
     "name": "#%%\n"
    }
   }
  },
  {
   "cell_type": "code",
   "execution_count": 45,
   "outputs": [],
   "source": [
    "df.groupby('year').describe().to_excel('describe_year.xlsx')"
   ],
   "metadata": {
    "collapsed": false,
    "pycharm": {
     "name": "#%%\n"
    }
   }
  },
  {
   "cell_type": "code",
   "execution_count": 46,
   "outputs": [
    {
     "data": {
      "text/plain": "     progress                                                                  \\\n        count      mean       std           min       25%       50%       75%   \nyear                                                                            \n2006     35.0  0.060295  0.027688  0.000000e+00  0.039881  0.058763  0.081069   \n2007     35.0  0.060814  0.026203  2.104315e-02  0.043715  0.059767  0.079936   \n2008     35.0  0.060148  0.026482  2.393199e-02  0.039420  0.053827  0.080985   \n2009     35.0  0.059970  0.026223  2.177816e-02  0.041626  0.053876  0.077819   \n2010     35.0  0.059531  0.027601  1.907164e-02  0.036890  0.053834  0.081373   \n2011     35.0  0.058708  0.028962  3.252607e-17  0.035514  0.054706  0.082260   \n2012     35.0  0.059333  0.029552  2.081668e-17  0.035821  0.056409  0.081791   \n2013     35.0  0.058614  0.030016  3.859760e-17  0.035926  0.056617  0.082208   \n2014     35.0  0.058878  0.029977  1.214306e-17  0.036841  0.057231  0.082607   \n2015     35.0  0.057678  0.030603  0.000000e+00  0.036904  0.057777  0.081437   \n2016     35.0  0.058638  0.029516  8.239937e-18  0.037286  0.058028  0.081743   \n2017     35.0  0.058849  0.029542  5.637851e-18  0.037323  0.058207  0.080117   \n2018     35.0  0.059581  0.029376  6.938894e-18  0.037526  0.057572  0.080436   \n2019     35.0  0.060421  0.028587  1.084202e-17  0.038362  0.057791  0.080440   \n2020     35.0  0.060338  0.028538  3.035766e-18  0.038032  0.057222  0.079632   \n\n               Happiness            ... unemployment%             CPI  \\\n           max     count      mean  ...           75%       max count   \nyear                                ...                                 \n2006  0.121885      15.0  6.556481  ...      8.403837  13.96667  33.0   \n2007  0.122546      24.0  6.565799  ...      7.883333  11.23333  33.0   \n2008  0.122809      27.0  6.826740  ...      7.431250  11.27750  33.0   \n2009  0.122025      23.0  6.347119  ...     10.837500  17.86667  33.0   \n2010  0.122412      28.0  6.614932  ...     11.495835  19.87500  33.0   \n2011  0.122216      30.0  6.519684  ...     10.780835  21.40833  33.0   \n2012  0.128805      33.0  6.574410  ...     10.554585  24.79167  33.0   \n2013  0.128856      31.0  6.528904  ...     10.454165  27.49167  33.0   \n2014  0.129025      32.0  6.542941  ...     10.079166  26.55000  33.0   \n2015  0.129135      33.0  6.573465  ...      9.666666  24.95833  33.0   \n2016  0.129228      33.0  6.626867  ...      9.095417  23.56667  33.0   \n2017  0.135851      33.0  6.723013  ...      8.395833  21.53333  33.0   \n2018  0.142477      32.0  6.706314  ...      6.837500  19.30833  33.0   \n2019  0.142495      31.0  6.743584  ...      6.495833  17.33333  33.0   \n2020  0.142498       0.0       NaN  ...           NaN       NaN   0.0   \n\n                                                                             \n          mean       std       min       25%       50%       75%        max  \nyear                                                                         \n2006  2.831808  1.772383  0.300000  1.675125  2.457924  3.555288   9.597242  \n2007  2.940470  1.989495  0.000000  1.829738  2.453965  2.895001   8.756181  \n2008  4.727942  2.650864  1.400000  3.347834  4.065952  4.673897  12.694400  \n2009  1.531603  2.805457 -4.478103 -0.053146  1.019377  2.197386  12.003120  \n2010  2.253524  1.768223 -0.922096  1.319214  1.801170  2.716640   8.566444  \n2011  3.113634  1.274953 -0.300000  2.557189  3.303850  3.919286   6.471879  \n2012  2.613363  1.727308 -0.692552  1.696209  2.455548  3.089983   8.891570  \n2013  1.588219  1.464988 -0.921272  0.900000  1.408581  2.000158   7.493090  \n2014  1.054792  1.766574 -1.312242 -0.013203  0.507759  1.605806   8.854572  \n2015  0.462543  1.592702 -1.735902 -0.325220  0.292703  0.706332   7.670854  \n2016  0.826185  1.570219 -0.825658 -0.055000  0.491749  1.000000   7.775134  \n2017  2.080275  1.956059  0.244953  1.226533  1.794499  2.125971  11.144310  \n2018  2.320641  2.669545  0.488370  1.137488  1.850815  2.442583  16.332460  \n2019  2.021500  2.532661  0.252993  0.844129  1.619632  2.308333  15.176820  \n2020       NaN       NaN       NaN       NaN       NaN       NaN        NaN  \n\n[15 rows x 80 columns]",
      "text/html": "<div>\n<style scoped>\n    .dataframe tbody tr th:only-of-type {\n        vertical-align: middle;\n    }\n\n    .dataframe tbody tr th {\n        vertical-align: top;\n    }\n\n    .dataframe thead tr th {\n        text-align: left;\n    }\n\n    .dataframe thead tr:last-of-type th {\n        text-align: right;\n    }\n</style>\n<table border=\"1\" class=\"dataframe\">\n  <thead>\n    <tr>\n      <th></th>\n      <th colspan=\"8\" halign=\"left\">progress</th>\n      <th colspan=\"2\" halign=\"left\">Happiness</th>\n      <th>...</th>\n      <th colspan=\"2\" halign=\"left\">unemployment%</th>\n      <th colspan=\"8\" halign=\"left\">CPI</th>\n    </tr>\n    <tr>\n      <th></th>\n      <th>count</th>\n      <th>mean</th>\n      <th>std</th>\n      <th>min</th>\n      <th>25%</th>\n      <th>50%</th>\n      <th>75%</th>\n      <th>max</th>\n      <th>count</th>\n      <th>mean</th>\n      <th>...</th>\n      <th>75%</th>\n      <th>max</th>\n      <th>count</th>\n      <th>mean</th>\n      <th>std</th>\n      <th>min</th>\n      <th>25%</th>\n      <th>50%</th>\n      <th>75%</th>\n      <th>max</th>\n    </tr>\n    <tr>\n      <th>year</th>\n      <th></th>\n      <th></th>\n      <th></th>\n      <th></th>\n      <th></th>\n      <th></th>\n      <th></th>\n      <th></th>\n      <th></th>\n      <th></th>\n      <th></th>\n      <th></th>\n      <th></th>\n      <th></th>\n      <th></th>\n      <th></th>\n      <th></th>\n      <th></th>\n      <th></th>\n      <th></th>\n      <th></th>\n    </tr>\n  </thead>\n  <tbody>\n    <tr>\n      <th>2006</th>\n      <td>35.0</td>\n      <td>0.060295</td>\n      <td>0.027688</td>\n      <td>0.000000e+00</td>\n      <td>0.039881</td>\n      <td>0.058763</td>\n      <td>0.081069</td>\n      <td>0.121885</td>\n      <td>15.0</td>\n      <td>6.556481</td>\n      <td>...</td>\n      <td>8.403837</td>\n      <td>13.96667</td>\n      <td>33.0</td>\n      <td>2.831808</td>\n      <td>1.772383</td>\n      <td>0.300000</td>\n      <td>1.675125</td>\n      <td>2.457924</td>\n      <td>3.555288</td>\n      <td>9.597242</td>\n    </tr>\n    <tr>\n      <th>2007</th>\n      <td>35.0</td>\n      <td>0.060814</td>\n      <td>0.026203</td>\n      <td>2.104315e-02</td>\n      <td>0.043715</td>\n      <td>0.059767</td>\n      <td>0.079936</td>\n      <td>0.122546</td>\n      <td>24.0</td>\n      <td>6.565799</td>\n      <td>...</td>\n      <td>7.883333</td>\n      <td>11.23333</td>\n      <td>33.0</td>\n      <td>2.940470</td>\n      <td>1.989495</td>\n      <td>0.000000</td>\n      <td>1.829738</td>\n      <td>2.453965</td>\n      <td>2.895001</td>\n      <td>8.756181</td>\n    </tr>\n    <tr>\n      <th>2008</th>\n      <td>35.0</td>\n      <td>0.060148</td>\n      <td>0.026482</td>\n      <td>2.393199e-02</td>\n      <td>0.039420</td>\n      <td>0.053827</td>\n      <td>0.080985</td>\n      <td>0.122809</td>\n      <td>27.0</td>\n      <td>6.826740</td>\n      <td>...</td>\n      <td>7.431250</td>\n      <td>11.27750</td>\n      <td>33.0</td>\n      <td>4.727942</td>\n      <td>2.650864</td>\n      <td>1.400000</td>\n      <td>3.347834</td>\n      <td>4.065952</td>\n      <td>4.673897</td>\n      <td>12.694400</td>\n    </tr>\n    <tr>\n      <th>2009</th>\n      <td>35.0</td>\n      <td>0.059970</td>\n      <td>0.026223</td>\n      <td>2.177816e-02</td>\n      <td>0.041626</td>\n      <td>0.053876</td>\n      <td>0.077819</td>\n      <td>0.122025</td>\n      <td>23.0</td>\n      <td>6.347119</td>\n      <td>...</td>\n      <td>10.837500</td>\n      <td>17.86667</td>\n      <td>33.0</td>\n      <td>1.531603</td>\n      <td>2.805457</td>\n      <td>-4.478103</td>\n      <td>-0.053146</td>\n      <td>1.019377</td>\n      <td>2.197386</td>\n      <td>12.003120</td>\n    </tr>\n    <tr>\n      <th>2010</th>\n      <td>35.0</td>\n      <td>0.059531</td>\n      <td>0.027601</td>\n      <td>1.907164e-02</td>\n      <td>0.036890</td>\n      <td>0.053834</td>\n      <td>0.081373</td>\n      <td>0.122412</td>\n      <td>28.0</td>\n      <td>6.614932</td>\n      <td>...</td>\n      <td>11.495835</td>\n      <td>19.87500</td>\n      <td>33.0</td>\n      <td>2.253524</td>\n      <td>1.768223</td>\n      <td>-0.922096</td>\n      <td>1.319214</td>\n      <td>1.801170</td>\n      <td>2.716640</td>\n      <td>8.566444</td>\n    </tr>\n    <tr>\n      <th>2011</th>\n      <td>35.0</td>\n      <td>0.058708</td>\n      <td>0.028962</td>\n      <td>3.252607e-17</td>\n      <td>0.035514</td>\n      <td>0.054706</td>\n      <td>0.082260</td>\n      <td>0.122216</td>\n      <td>30.0</td>\n      <td>6.519684</td>\n      <td>...</td>\n      <td>10.780835</td>\n      <td>21.40833</td>\n      <td>33.0</td>\n      <td>3.113634</td>\n      <td>1.274953</td>\n      <td>-0.300000</td>\n      <td>2.557189</td>\n      <td>3.303850</td>\n      <td>3.919286</td>\n      <td>6.471879</td>\n    </tr>\n    <tr>\n      <th>2012</th>\n      <td>35.0</td>\n      <td>0.059333</td>\n      <td>0.029552</td>\n      <td>2.081668e-17</td>\n      <td>0.035821</td>\n      <td>0.056409</td>\n      <td>0.081791</td>\n      <td>0.128805</td>\n      <td>33.0</td>\n      <td>6.574410</td>\n      <td>...</td>\n      <td>10.554585</td>\n      <td>24.79167</td>\n      <td>33.0</td>\n      <td>2.613363</td>\n      <td>1.727308</td>\n      <td>-0.692552</td>\n      <td>1.696209</td>\n      <td>2.455548</td>\n      <td>3.089983</td>\n      <td>8.891570</td>\n    </tr>\n    <tr>\n      <th>2013</th>\n      <td>35.0</td>\n      <td>0.058614</td>\n      <td>0.030016</td>\n      <td>3.859760e-17</td>\n      <td>0.035926</td>\n      <td>0.056617</td>\n      <td>0.082208</td>\n      <td>0.128856</td>\n      <td>31.0</td>\n      <td>6.528904</td>\n      <td>...</td>\n      <td>10.454165</td>\n      <td>27.49167</td>\n      <td>33.0</td>\n      <td>1.588219</td>\n      <td>1.464988</td>\n      <td>-0.921272</td>\n      <td>0.900000</td>\n      <td>1.408581</td>\n      <td>2.000158</td>\n      <td>7.493090</td>\n    </tr>\n    <tr>\n      <th>2014</th>\n      <td>35.0</td>\n      <td>0.058878</td>\n      <td>0.029977</td>\n      <td>1.214306e-17</td>\n      <td>0.036841</td>\n      <td>0.057231</td>\n      <td>0.082607</td>\n      <td>0.129025</td>\n      <td>32.0</td>\n      <td>6.542941</td>\n      <td>...</td>\n      <td>10.079166</td>\n      <td>26.55000</td>\n      <td>33.0</td>\n      <td>1.054792</td>\n      <td>1.766574</td>\n      <td>-1.312242</td>\n      <td>-0.013203</td>\n      <td>0.507759</td>\n      <td>1.605806</td>\n      <td>8.854572</td>\n    </tr>\n    <tr>\n      <th>2015</th>\n      <td>35.0</td>\n      <td>0.057678</td>\n      <td>0.030603</td>\n      <td>0.000000e+00</td>\n      <td>0.036904</td>\n      <td>0.057777</td>\n      <td>0.081437</td>\n      <td>0.129135</td>\n      <td>33.0</td>\n      <td>6.573465</td>\n      <td>...</td>\n      <td>9.666666</td>\n      <td>24.95833</td>\n      <td>33.0</td>\n      <td>0.462543</td>\n      <td>1.592702</td>\n      <td>-1.735902</td>\n      <td>-0.325220</td>\n      <td>0.292703</td>\n      <td>0.706332</td>\n      <td>7.670854</td>\n    </tr>\n    <tr>\n      <th>2016</th>\n      <td>35.0</td>\n      <td>0.058638</td>\n      <td>0.029516</td>\n      <td>8.239937e-18</td>\n      <td>0.037286</td>\n      <td>0.058028</td>\n      <td>0.081743</td>\n      <td>0.129228</td>\n      <td>33.0</td>\n      <td>6.626867</td>\n      <td>...</td>\n      <td>9.095417</td>\n      <td>23.56667</td>\n      <td>33.0</td>\n      <td>0.826185</td>\n      <td>1.570219</td>\n      <td>-0.825658</td>\n      <td>-0.055000</td>\n      <td>0.491749</td>\n      <td>1.000000</td>\n      <td>7.775134</td>\n    </tr>\n    <tr>\n      <th>2017</th>\n      <td>35.0</td>\n      <td>0.058849</td>\n      <td>0.029542</td>\n      <td>5.637851e-18</td>\n      <td>0.037323</td>\n      <td>0.058207</td>\n      <td>0.080117</td>\n      <td>0.135851</td>\n      <td>33.0</td>\n      <td>6.723013</td>\n      <td>...</td>\n      <td>8.395833</td>\n      <td>21.53333</td>\n      <td>33.0</td>\n      <td>2.080275</td>\n      <td>1.956059</td>\n      <td>0.244953</td>\n      <td>1.226533</td>\n      <td>1.794499</td>\n      <td>2.125971</td>\n      <td>11.144310</td>\n    </tr>\n    <tr>\n      <th>2018</th>\n      <td>35.0</td>\n      <td>0.059581</td>\n      <td>0.029376</td>\n      <td>6.938894e-18</td>\n      <td>0.037526</td>\n      <td>0.057572</td>\n      <td>0.080436</td>\n      <td>0.142477</td>\n      <td>32.0</td>\n      <td>6.706314</td>\n      <td>...</td>\n      <td>6.837500</td>\n      <td>19.30833</td>\n      <td>33.0</td>\n      <td>2.320641</td>\n      <td>2.669545</td>\n      <td>0.488370</td>\n      <td>1.137488</td>\n      <td>1.850815</td>\n      <td>2.442583</td>\n      <td>16.332460</td>\n    </tr>\n    <tr>\n      <th>2019</th>\n      <td>35.0</td>\n      <td>0.060421</td>\n      <td>0.028587</td>\n      <td>1.084202e-17</td>\n      <td>0.038362</td>\n      <td>0.057791</td>\n      <td>0.080440</td>\n      <td>0.142495</td>\n      <td>31.0</td>\n      <td>6.743584</td>\n      <td>...</td>\n      <td>6.495833</td>\n      <td>17.33333</td>\n      <td>33.0</td>\n      <td>2.021500</td>\n      <td>2.532661</td>\n      <td>0.252993</td>\n      <td>0.844129</td>\n      <td>1.619632</td>\n      <td>2.308333</td>\n      <td>15.176820</td>\n    </tr>\n    <tr>\n      <th>2020</th>\n      <td>35.0</td>\n      <td>0.060338</td>\n      <td>0.028538</td>\n      <td>3.035766e-18</td>\n      <td>0.038032</td>\n      <td>0.057222</td>\n      <td>0.079632</td>\n      <td>0.142498</td>\n      <td>0.0</td>\n      <td>NaN</td>\n      <td>...</td>\n      <td>NaN</td>\n      <td>NaN</td>\n      <td>0.0</td>\n      <td>NaN</td>\n      <td>NaN</td>\n      <td>NaN</td>\n      <td>NaN</td>\n      <td>NaN</td>\n      <td>NaN</td>\n      <td>NaN</td>\n    </tr>\n  </tbody>\n</table>\n<p>15 rows × 80 columns</p>\n</div>"
     },
     "execution_count": 46,
     "metadata": {},
     "output_type": "execute_result"
    }
   ],
   "source": [
    "df.groupby('year').describe()"
   ],
   "metadata": {
    "collapsed": false,
    "pycharm": {
     "name": "#%%\n"
    }
   }
  }
 ],
 "metadata": {
  "kernelspec": {
   "display_name": "Python 3",
   "language": "python",
   "name": "python3"
  },
  "language_info": {
   "codemirror_mode": {
    "name": "ipython",
    "version": 2
   },
   "file_extension": ".py",
   "mimetype": "text/x-python",
   "name": "python",
   "nbconvert_exporter": "python",
   "pygments_lexer": "ipython2",
   "version": "2.7.6"
  }
 },
 "nbformat": 4,
 "nbformat_minor": 0
}