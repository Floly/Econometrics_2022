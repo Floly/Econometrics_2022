{
 "cells": [
  {
   "cell_type": "code",
   "execution_count": 252,
   "metadata": {
    "collapsed": true
   },
   "outputs": [],
   "source": [
    "import pandas as pd\n",
    "import numpy as np\n",
    "import statsmodels.api as sm\n",
    "import matplotlib.pyplot as plt\n",
    "import plotly.express as px\n",
    "from statsmodels.stats.diagnostic import het_white"
   ]
  },
  {
   "cell_type": "code",
   "execution_count": 253,
   "outputs": [],
   "source": [
    "df = pd.read_excel('Shares.xlsx')"
   ],
   "metadata": {
    "collapsed": false,
    "pycharm": {
     "name": "#%%\n"
    }
   }
  },
  {
   "cell_type": "code",
   "execution_count": 254,
   "outputs": [],
   "source": [
    "def progressivity_measure(df):\n",
    "    '''\n",
    "    :param df: датафрейм\n",
    "    :return: прогрессивность налоговой системы и показатели регрессии\n",
    "    '''\n",
    "    progressivity = []\n",
    "    R2_score, pval = [], []\n",
    "    for i in range(df.shape[0]):\n",
    "        # делим выборку на таргет и регрессоры, к регрессорам добавляем константу и строим модель\n",
    "        y = np.array(df.iloc[i,2:], dtype = 'float64')\n",
    "        X = np.arange(0.04, 4.04, 0.04)\n",
    "        X = sm.add_constant(X, prepend=False)\n",
    "        mod = sm.OLS(y, X)\n",
    "        res = mod.fit(cov_type='HC0')\n",
    "\n",
    "        # сохраняем значения столбцов\n",
    "        progressivity.append(round(res.params[0],3))\n",
    "        R2_score.append(round(res.rsquared,3))\n",
    "        pval.append(round(res.pvalues[0],4))\n",
    "\n",
    "    # создаём новый датафрейм и возвращаем его\n",
    "    output = df[['Name', 'year']]\n",
    "    output['progress'] = progressivity\n",
    "    output['R2'] = R2_score\n",
    "    output['pval'] = pval\n",
    "    return(output)"
   ],
   "metadata": {
    "collapsed": false,
    "pycharm": {
     "name": "#%%\n"
    }
   }
  },
  {
   "cell_type": "code",
   "execution_count": 257,
   "outputs": [
    {
     "name": "stderr",
     "output_type": "stream",
     "text": [
      "/Users/ivanesipov/opt/anaconda3/lib/python3.8/site-packages/statsmodels/regression/linear_model.py:1736: RuntimeWarning:\n",
      "\n",
      "invalid value encountered in double_scalars\n",
      "\n",
      "/var/folders/1f/1t7knmh95bg_g1s30p6r8mp40000gn/T/ipykernel_7657/1465511390.py:23: SettingWithCopyWarning:\n",
      "\n",
      "\n",
      "A value is trying to be set on a copy of a slice from a DataFrame.\n",
      "Try using .loc[row_indexer,col_indexer] = value instead\n",
      "\n",
      "See the caveats in the documentation: https://pandas.pydata.org/pandas-docs/stable/user_guide/indexing.html#returning-a-view-versus-a-copy\n",
      "\n",
      "/var/folders/1f/1t7knmh95bg_g1s30p6r8mp40000gn/T/ipykernel_7657/1465511390.py:24: SettingWithCopyWarning:\n",
      "\n",
      "\n",
      "A value is trying to be set on a copy of a slice from a DataFrame.\n",
      "Try using .loc[row_indexer,col_indexer] = value instead\n",
      "\n",
      "See the caveats in the documentation: https://pandas.pydata.org/pandas-docs/stable/user_guide/indexing.html#returning-a-view-versus-a-copy\n",
      "\n",
      "/var/folders/1f/1t7knmh95bg_g1s30p6r8mp40000gn/T/ipykernel_7657/1465511390.py:25: SettingWithCopyWarning:\n",
      "\n",
      "\n",
      "A value is trying to be set on a copy of a slice from a DataFrame.\n",
      "Try using .loc[row_indexer,col_indexer] = value instead\n",
      "\n",
      "See the caveats in the documentation: https://pandas.pydata.org/pandas-docs/stable/user_guide/indexing.html#returning-a-view-versus-a-copy\n",
      "\n"
     ]
    },
    {
     "data": {
      "text/plain": "        Name  year  progress     R2  pval\n0  Australia  2006     0.084  0.889   0.0\n1  Australia  2007     0.073  0.870   0.0\n2  Australia  2008     0.076  0.880   0.0\n3  Australia  2009     0.073  0.892   0.0\n4  Australia  2010     0.070  0.882   0.0",
      "text/html": "<div>\n<style scoped>\n    .dataframe tbody tr th:only-of-type {\n        vertical-align: middle;\n    }\n\n    .dataframe tbody tr th {\n        vertical-align: top;\n    }\n\n    .dataframe thead th {\n        text-align: right;\n    }\n</style>\n<table border=\"1\" class=\"dataframe\">\n  <thead>\n    <tr style=\"text-align: right;\">\n      <th></th>\n      <th>Name</th>\n      <th>year</th>\n      <th>progress</th>\n      <th>R2</th>\n      <th>pval</th>\n    </tr>\n  </thead>\n  <tbody>\n    <tr>\n      <th>0</th>\n      <td>Australia</td>\n      <td>2006</td>\n      <td>0.084</td>\n      <td>0.889</td>\n      <td>0.0</td>\n    </tr>\n    <tr>\n      <th>1</th>\n      <td>Australia</td>\n      <td>2007</td>\n      <td>0.073</td>\n      <td>0.870</td>\n      <td>0.0</td>\n    </tr>\n    <tr>\n      <th>2</th>\n      <td>Australia</td>\n      <td>2008</td>\n      <td>0.076</td>\n      <td>0.880</td>\n      <td>0.0</td>\n    </tr>\n    <tr>\n      <th>3</th>\n      <td>Australia</td>\n      <td>2009</td>\n      <td>0.073</td>\n      <td>0.892</td>\n      <td>0.0</td>\n    </tr>\n    <tr>\n      <th>4</th>\n      <td>Australia</td>\n      <td>2010</td>\n      <td>0.070</td>\n      <td>0.882</td>\n      <td>0.0</td>\n    </tr>\n  </tbody>\n</table>\n</div>"
     },
     "execution_count": 257,
     "metadata": {},
     "output_type": "execute_result"
    }
   ],
   "source": [
    "res = progressivity_measure(df)\n",
    "res.head()"
   ],
   "metadata": {
    "collapsed": false,
    "pycharm": {
     "name": "#%%\n"
    }
   }
  },
  {
   "cell_type": "code",
   "execution_count": 258,
   "outputs": [],
   "source": [
    "res.to_excel('taxation_progress.xlsx')"
   ],
   "metadata": {
    "collapsed": false,
    "pycharm": {
     "name": "#%%\n"
    }
   }
  }
 ],
 "metadata": {
  "kernelspec": {
   "display_name": "Python 3",
   "language": "python",
   "name": "python3"
  },
  "language_info": {
   "codemirror_mode": {
    "name": "ipython",
    "version": 2
   },
   "file_extension": ".py",
   "mimetype": "text/x-python",
   "name": "python",
   "nbconvert_exporter": "python",
   "pygments_lexer": "ipython2",
   "version": "2.7.6"
  }
 },
 "nbformat": 4,
 "nbformat_minor": 0
}